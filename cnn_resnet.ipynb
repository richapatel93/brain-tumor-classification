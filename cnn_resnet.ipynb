{
 "cells": [
  {
   "cell_type": "code",
   "execution_count": 1,
   "id": "9552103b",
   "metadata": {},
   "outputs": [
    {
     "name": "stderr",
     "output_type": "stream",
     "text": [
      "/home/anderson_walsh/UTK/COSC523Project2/nlp/lib/python3.10/site-packages/tqdm/auto.py:21: TqdmWarning: IProgress not found. Please update jupyter and ipywidgets. See https://ipywidgets.readthedocs.io/en/stable/user_install.html\n",
      "  from .autonotebook import tqdm as notebook_tqdm\n"
     ]
    }
   ],
   "source": [
    "import kagglehub\n",
    "\n",
    "#path = kagglehub.dataset_download(\"masoudnickparvar/brain-tumor-mri-dataset\")\n",
    "\n",
    "#print(\"Path to dataset files:\", path)"
   ]
  },
  {
   "cell_type": "code",
   "execution_count": 2,
   "id": "54e6d417",
   "metadata": {},
   "outputs": [],
   "source": [
    "train = '/home/anderson_walsh/.cache/kagglehub/datasets/masoudnickparvar/brain-tumor-mri-dataset/versions/1/Training'\n",
    "test = '/home/anderson_walsh/.cache/kagglehub/datasets/masoudnickparvar/brain-tumor-mri-dataset/versions/1/Testing'"
   ]
  },
  {
   "cell_type": "code",
   "execution_count": 3,
   "id": "2ba8379d",
   "metadata": {},
   "outputs": [],
   "source": [
    "import cv2\n",
    "import numpy as np\n",
    "import os\n",
    "\n",
    "DATASET_PATH = '/home/anderson_walsh/.cache/kagglehub/datasets/masoudnickparvar/brain-tumor-mri-dataset/versions/1/'\n",
    "\n",
    "IMG_SIZE = 224\n",
    "\n",
    "labels_map = {\n",
    "    'glioma': 0,\n",
    "    'meningioma': 1,\n",
    "    'pituitary': 2,\n",
    "    'notumor': 3  \n",
    "}\n",
    "\n",
    "def load_data(folder):\n",
    "    X = []\n",
    "    y = []\n",
    "    for label in labels_map.keys():\n",
    "        class_folder = os.path.join(folder, label)\n",
    "        for img_file in os.listdir(class_folder):\n",
    "            img_path = os.path.join(class_folder, img_file)\n",
    "            try:\n",
    "                img = cv2.imread(img_path, cv2.IMREAD_GRAYSCALE)\n",
    "                img = cv2.resize(img, (IMG_SIZE, IMG_SIZE))\n",
    "                X.append(img)\n",
    "                y.append(labels_map[label])\n",
    "            except:\n",
    "                print(f\"Skipped corrupt image: {img_path}\")\n",
    "    return np.array(X), np.array(y)\n"
   ]
  },
  {
   "cell_type": "code",
   "execution_count": 4,
   "id": "80069119",
   "metadata": {},
   "outputs": [
    {
     "name": "stdout",
     "output_type": "stream",
     "text": [
      "Training set: (5712, 224, 224) (5712,)\n",
      "Testing set: (1311, 224, 224) (1311,)\n"
     ]
    }
   ],
   "source": [
    "X_train, y_train = load_data(os.path.join(DATASET_PATH, 'Training'))\n",
    "\n",
    "X_test, y_test = load_data(os.path.join(DATASET_PATH, 'Testing'))\n",
    "\n",
    "print(\"Training set:\", X_train.shape, y_train.shape)\n",
    "print(\"Testing set:\", X_test.shape, y_test.shape)"
   ]
  },
  {
   "cell_type": "code",
   "execution_count": 5,
   "id": "5b63bf9f",
   "metadata": {},
   "outputs": [],
   "source": [
    "from sklearn.model_selection import train_test_split\n",
    "\n",
    "X_train, X_val, y_train, y_val = train_test_split(X_train, y_train, test_size=0.2, random_state=42)"
   ]
  },
  {
   "cell_type": "code",
   "execution_count": 6,
   "id": "8f9cf602",
   "metadata": {},
   "outputs": [
    {
     "name": "stderr",
     "output_type": "stream",
     "text": [
      "2025-05-04 18:24:06.358772: I tensorflow/core/util/port.cc:153] oneDNN custom operations are on. You may see slightly different numerical results due to floating-point round-off errors from different computation orders. To turn them off, set the environment variable `TF_ENABLE_ONEDNN_OPTS=0`.\n",
      "2025-05-04 18:24:06.365355: E external/local_xla/xla/stream_executor/cuda/cuda_fft.cc:477] Unable to register cuFFT factory: Attempting to register factory for plugin cuFFT when one has already been registered\n",
      "WARNING: All log messages before absl::InitializeLog() is called are written to STDERR\n",
      "E0000 00:00:1746397446.372555  432959 cuda_dnn.cc:8310] Unable to register cuDNN factory: Attempting to register factory for plugin cuDNN when one has already been registered\n",
      "E0000 00:00:1746397446.374814  432959 cuda_blas.cc:1418] Unable to register cuBLAS factory: Attempting to register factory for plugin cuBLAS when one has already been registered\n",
      "2025-05-04 18:24:06.382426: I tensorflow/core/platform/cpu_feature_guard.cc:210] This TensorFlow binary is optimized to use available CPU instructions in performance-critical operations.\n",
      "To enable the following instructions: AVX2 AVX_VNNI FMA, in other operations, rebuild TensorFlow with the appropriate compiler flags.\n"
     ]
    }
   ],
   "source": [
    "from tensorflow.keras.utils import to_categorical\n",
    "\n",
    "y_train = to_categorical(y_train, num_classes=4)\n",
    "y_val = to_categorical(y_val, num_classes=4)\n",
    "y_test = to_categorical(y_test, num_classes=4)"
   ]
  },
  {
   "cell_type": "code",
   "execution_count": 7,
   "id": "6bb0f332",
   "metadata": {},
   "outputs": [
    {
     "name": "stderr",
     "output_type": "stream",
     "text": [
      "I0000 00:00:1746397447.603741  432959 gpu_device.cc:2022] Created device /job:localhost/replica:0/task:0/device:GPU:0 with 21458 MB memory:  -> device: 0, name: NVIDIA GeForce RTX 4090, pci bus id: 0000:01:00.0, compute capability: 8.9\n"
     ]
    }
   ],
   "source": [
    "import tensorflow as tf\n",
    "import numpy as np\n",
    "def data_generator():\n",
    "    for img, label in zip(X_train, y_train):\n",
    "        img_array = np.array(img, dtype=np.uint8)\n",
    "        yield img_array, label\n",
    "def data_generator_val():\n",
    "    for img, label in zip(X_val, y_val):\n",
    "        img_array = np.array(img, dtype=np.uint8)\n",
    "        yield img_array, label\n",
    "train_ds = tf.data.Dataset.from_generator(\n",
    "    data_generator,\n",
    "    output_signature=(\n",
    "        tf.TensorSpec(shape=(224, 224), dtype=tf.uint8),\n",
    "        tf.TensorSpec(shape=(4,), dtype=tf.uint8)\n",
    "    )\n",
    ")\n",
    "val_ds = tf.data.Dataset.from_generator(\n",
    "    data_generator_val,\n",
    "    output_signature=(\n",
    "        tf.TensorSpec(shape=(224, 224), dtype=tf.uint8),\n",
    "        tf.TensorSpec(shape=(4,), dtype=tf.uint8)\n",
    "    )\n",
    ")"
   ]
  },
  {
   "cell_type": "code",
   "execution_count": 8,
   "id": "0bb64cc7",
   "metadata": {},
   "outputs": [],
   "source": [
    "from tensorflow.keras.layers import RandomFlip, RandomRotation, RandomWidth, RandomHeight, RandomZoom\n",
    "\n",
    "\n",
    "data_augmentation = tf.keras.Sequential([\n",
    "    RandomRotation(0.2),\n",
    "    RandomWidth(0.2),\n",
    "    RandomHeight(0.2),\n",
    "    RandomZoom(0.2),\n",
    "])\n"
   ]
  },
  {
   "cell_type": "code",
   "execution_count": 9,
   "id": "d1cb588b",
   "metadata": {},
   "outputs": [],
   "source": [
    "def preprocess(img, label):\n",
    "    img = tf.expand_dims(img, axis=-1)\n",
    "    img = tf.image.grayscale_to_rgb(img)\n",
    "    img = tf.cast(img, tf.float32) / 255.0\n",
    "    label = tf.cast(label, tf.float32)\n",
    "    return img, label\n",
    "def preprocess_train(img, label):\n",
    "    img = tf.expand_dims(img, axis=-1)\n",
    "    img = tf.image.grayscale_to_rgb(img)\n",
    "    img = tf.cast(img, tf.float32) / 255.0\n",
    "    #img = data_augmentation(img)\n",
    "    #img = tf.image.resize(img, (224, 224))\n",
    "    label = tf.cast(label, tf.float32)\n",
    "    return img, label"
   ]
  },
  {
   "cell_type": "code",
   "execution_count": 10,
   "id": "4d1001df",
   "metadata": {},
   "outputs": [],
   "source": [
    "train_ds = (\n",
    "    train_ds\n",
    "    .map(preprocess_train, num_parallel_calls=tf.data.AUTOTUNE)\n",
    "    .batch(32)\n",
    "    .prefetch(tf.data.AUTOTUNE)\n",
    ")\n",
    "val_ds = (\n",
    "    val_ds\n",
    "    .map(preprocess, num_parallel_calls=tf.data.AUTOTUNE)\n",
    "    .batch(32)\n",
    "    .prefetch(tf.data.AUTOTUNE)\n",
    ")"
   ]
  },
  {
   "cell_type": "code",
   "execution_count": 11,
   "id": "a9b39ad6",
   "metadata": {},
   "outputs": [],
   "source": [
    "from tensorflow.keras.applications import ResNet50\n",
    "from tensorflow.keras.applications import MobileNetV2\n",
    "from tensorflow.keras.applications import DenseNet121\n",
    "from tensorflow.keras.models import Model\n",
    "from tensorflow.keras.layers import GlobalAveragePooling2D, Dense, Dropout\n",
    "from tensorflow.keras.optimizers import Adam\n",
    "from tensorflow.keras.layers import Input\n",
    "\n",
    "inputs = Input(shape=(224, 224, 3))\n",
    "\n",
    "\n",
    "x = inputs\n",
    "\n",
    "base_model = ResNet50(weights='imagenet', include_top=False, input_shape=(224, 224, 3))\n",
    "base_model.trainable = False\n",
    "\n",
    "x = base_model(x, training=False)\n",
    "\n",
    "# Custom classification head\n",
    "x = GlobalAveragePooling2D()(x)\n",
    "x = Dense(1024, activation='relu')(x)\n",
    "x = Dropout(0.5)(x)\n",
    "x = Dense(512, activation='relu')(x)\n",
    "x = Dropout(0.3)(x)\n",
    "x = Dense(256, activation='relu')(x)\n",
    "x = Dropout(0.2)(x)\n",
    "outputs = Dense(4, activation='sigmoid')(x)\n",
    "\n",
    "model = Model(inputs, outputs)"
   ]
  },
  {
   "cell_type": "code",
   "execution_count": 12,
   "id": "7b9dc23d",
   "metadata": {},
   "outputs": [],
   "source": [
    "from tensorflow.keras.metrics import AUC\n",
    "model.compile(\n",
    "    optimizer=Adam(learning_rate=1e-4),\n",
    "    loss='binary_crossentropy',\n",
    "\tmetrics=['accuracy']\n",
    ")"
   ]
  },
  {
   "cell_type": "code",
   "execution_count": 13,
   "id": "8be01d97",
   "metadata": {},
   "outputs": [
    {
     "name": "stdout",
     "output_type": "stream",
     "text": [
      "Epoch 1/50\n"
     ]
    },
    {
     "name": "stderr",
     "output_type": "stream",
     "text": [
      "WARNING: All log messages before absl::InitializeLog() is called are written to STDERR\n",
      "I0000 00:00:1746397451.779559  433117 service.cc:148] XLA service 0x7f7590002030 initialized for platform CUDA (this does not guarantee that XLA will be used). Devices:\n",
      "I0000 00:00:1746397451.779584  433117 service.cc:156]   StreamExecutor device (0): NVIDIA GeForce RTX 4090, Compute Capability 8.9\n",
      "2025-05-04 18:24:11.878747: I tensorflow/compiler/mlir/tensorflow/utils/dump_mlir_util.cc:268] disabling MLIR crash reproducer, set env var `MLIR_CRASH_REPRODUCER_DIRECTORY` to enable.\n",
      "I0000 00:00:1746397452.385708  433117 cuda_dnn.cc:529] Loaded cuDNN version 90300\n",
      "2025-05-04 18:24:13.166458: I external/local_xla/xla/stream_executor/cuda/cuda_asm_compiler.cc:397] ptxas warning : Registers are spilled to local memory in function 'gemm_fusion_dot_6544_0', 112 bytes spill stores, 224 bytes spill loads\n",
      "\n",
      "2025-05-04 18:24:13.201317: I external/local_xla/xla/stream_executor/cuda/cuda_asm_compiler.cc:397] ptxas warning : Registers are spilled to local memory in function 'gemm_fusion_dot_10019', 68 bytes spill stores, 72 bytes spill loads\n",
      "\n",
      "2025-05-04 18:24:13.228880: I external/local_xla/xla/stream_executor/cuda/cuda_asm_compiler.cc:397] ptxas warning : Registers are spilled to local memory in function 'gemm_fusion_dot_10019', 60 bytes spill stores, 64 bytes spill loads\n",
      "\n",
      "2025-05-04 18:24:13.258486: I external/local_xla/xla/stream_executor/cuda/cuda_asm_compiler.cc:397] ptxas warning : Registers are spilled to local memory in function 'gemm_fusion_dot_10019', 24 bytes spill stores, 24 bytes spill loads\n",
      "\n",
      "2025-05-04 18:24:13.416189: I external/local_xla/xla/stream_executor/cuda/cuda_asm_compiler.cc:397] ptxas warning : Registers are spilled to local memory in function 'gemm_fusion_dot_6544', 220 bytes spill stores, 576 bytes spill loads\n",
      "\n",
      "2025-05-04 18:30:17.609878: E external/local_xla/xla/service/slow_operation_alarm.cc:65] \n",
      "********************************\n",
      "[Compiling module a_inference_one_step_on_data_11979__.10309] Very slow compile? If you want to file a bug, run with envvar XLA_FLAGS=--xla_dump_to=/tmp/foo and attach the results.\n",
      "********************************\n",
      "I0000 00:00:1746397455.380473  433117 device_compiler.h:188] Compiled cluster using XLA!  This line is logged at most once for the lifetime of the process.\n"
     ]
    },
    {
     "name": "stdout",
     "output_type": "stream",
     "text": [
      "    142/Unknown \u001b[1m8s\u001b[0m 12ms/step - accuracy: 0.2923 - loss: 0.6032"
     ]
    },
    {
     "name": "stderr",
     "output_type": "stream",
     "text": [
      "2025-05-04 18:24:17.941966: I external/local_xla/xla/stream_executor/cuda/cuda_asm_compiler.cc:397] ptxas warning : Registers are spilled to local memory in function 'gemm_fusion_dot_6544_0', 8 bytes spill stores, 8 bytes spill loads\n",
      "\n",
      "2025-05-04 18:24:17.991738: I external/local_xla/xla/stream_executor/cuda/cuda_asm_compiler.cc:397] ptxas warning : Registers are spilled to local memory in function 'gemm_fusion_dot_6544', 16 bytes spill stores, 16 bytes spill loads\n",
      "\n",
      "2025-05-04 18:24:18.148091: I external/local_xla/xla/stream_executor/cuda/cuda_asm_compiler.cc:397] ptxas warning : Registers are spilled to local memory in function 'gemm_fusion_dot_10019', 12 bytes spill stores, 16 bytes spill loads\n",
      "\n",
      "2025-05-04 18:24:18.187657: I external/local_xla/xla/stream_executor/cuda/cuda_asm_compiler.cc:397] ptxas warning : Registers are spilled to local memory in function 'gemm_fusion_dot_10019', 32 bytes spill stores, 32 bytes spill loads\n",
      "\n",
      "2025-05-04 18:24:18.187831: I external/local_xla/xla/stream_executor/cuda/cuda_asm_compiler.cc:397] ptxas warning : Registers are spilled to local memory in function 'gemm_fusion_dot_10019', 24 bytes spill stores, 24 bytes spill loads\n",
      "\n",
      "2025-05-04 18:24:18.191453: I external/local_xla/xla/stream_executor/cuda/cuda_asm_compiler.cc:397] ptxas warning : Registers are spilled to local memory in function 'gemm_fusion_dot_6544', 120 bytes spill stores, 120 bytes spill loads\n",
      "\n"
     ]
    },
    {
     "name": "stdout",
     "output_type": "stream",
     "text": [
      "    143/Unknown \u001b[1m11s\u001b[0m 32ms/step - accuracy: 0.2925 - loss: 0.6029"
     ]
    },
    {
     "name": "stderr",
     "output_type": "stream",
     "text": [
      "2025-05-04 18:24:20.013981: I tensorflow/core/framework/local_rendezvous.cc:405] Local rendezvous is aborting with status: OUT_OF_RANGE: End of sequence\n",
      "\t [[{{node IteratorGetNext}}]]\n",
      "2025-05-04 18:24:20.014028: I tensorflow/core/framework/local_rendezvous.cc:405] Local rendezvous is aborting with status: OUT_OF_RANGE: End of sequence\n",
      "\t [[{{node IteratorGetNext}}]]\n",
      "\t [[IteratorGetNext/_4]]\n",
      "2025-05-04 18:24:20.014034: I tensorflow/core/framework/local_rendezvous.cc:424] Local rendezvous recv item cancelled. Key hash: 3053671888699155637\n",
      "2025-05-04 18:24:20.014037: I tensorflow/core/framework/local_rendezvous.cc:424] Local rendezvous recv item cancelled. Key hash: 6103064488571288724\n",
      "/usr/lib/python3.10/contextlib.py:153: UserWarning: Your input ran out of data; interrupting training. Make sure that your dataset or generator can generate at least `steps_per_epoch * epochs` batches. You may need to use the `.repeat()` function when building your dataset.\n",
      "  self.gen.throw(typ, value, traceback)\n",
      "2025-05-04 18:24:21.441604: I external/local_xla/xla/stream_executor/cuda/cuda_asm_compiler.cc:397] ptxas warning : Registers are spilled to local memory in function 'gemm_fusion_dot_1720_0', 88 bytes spill stores, 120 bytes spill loads\n",
      "\n",
      "2025-05-04 18:24:21.819224: I external/local_xla/xla/stream_executor/cuda/cuda_asm_compiler.cc:397] ptxas warning : Registers are spilled to local memory in function 'gemm_fusion_dot_1720', 220 bytes spill stores, 220 bytes spill loads\n",
      "\n",
      "2025-05-04 18:24:23.394302: I external/local_xla/xla/stream_executor/cuda/cuda_asm_compiler.cc:397] ptxas warning : Registers are spilled to local memory in function 'gemm_fusion_dot_1713_0', 8 bytes spill stores, 8 bytes spill loads\n",
      "\n",
      "2025-05-04 18:24:23.454415: I external/local_xla/xla/stream_executor/cuda/cuda_asm_compiler.cc:397] ptxas warning : Registers are spilled to local memory in function 'gemm_fusion_dot_1713', 16 bytes spill stores, 16 bytes spill loads\n",
      "\n",
      "2025-05-04 18:24:23.616130: I external/local_xla/xla/stream_executor/cuda/cuda_asm_compiler.cc:397] ptxas warning : Registers are spilled to local memory in function 'gemm_fusion_dot_1720_0', 352 bytes spill stores, 448 bytes spill loads\n",
      "\n",
      "2025-05-04 18:24:23.622618: I external/local_xla/xla/stream_executor/cuda/cuda_asm_compiler.cc:397] ptxas warning : Registers are spilled to local memory in function 'gemm_fusion_dot_1713', 84 bytes spill stores, 84 bytes spill loads\n",
      "\n",
      "2025-05-04 18:24:23.690545: I external/local_xla/xla/stream_executor/cuda/cuda_asm_compiler.cc:397] ptxas warning : Registers are spilled to local memory in function 'gemm_fusion_dot_1720', 4 bytes spill stores, 4 bytes spill loads\n",
      "\n",
      "2025-05-04 18:24:23.709616: I external/local_xla/xla/stream_executor/cuda/cuda_asm_compiler.cc:397] ptxas warning : Registers are spilled to local memory in function 'gemm_fusion_dot_1720', 92 bytes spill stores, 92 bytes spill loads\n",
      "\n",
      "2025-05-04 18:24:23.837471: I external/local_xla/xla/stream_executor/cuda/cuda_asm_compiler.cc:397] ptxas warning : Registers are spilled to local memory in function 'gemm_fusion_dot_1720', 4 bytes spill stores, 4 bytes spill loads\n",
      "\n"
     ]
    },
    {
     "name": "stdout",
     "output_type": "stream",
     "text": [
      "\u001b[1m143/143\u001b[0m \u001b[32m━━━━━━━━━━━━━━━━━━━━\u001b[0m\u001b[37m\u001b[0m \u001b[1m16s\u001b[0m 70ms/step - accuracy: 0.2928 - loss: 0.6027 - val_accuracy: 0.4217 - val_loss: 0.5000\n",
      "Epoch 2/50\n"
     ]
    },
    {
     "name": "stderr",
     "output_type": "stream",
     "text": [
      "2025-05-04 18:24:25.199693: I tensorflow/core/framework/local_rendezvous.cc:405] Local rendezvous is aborting with status: OUT_OF_RANGE: End of sequence\n",
      "\t [[{{node IteratorGetNext}}]]\n",
      "\t [[IteratorGetNext/_4]]\n"
     ]
    },
    {
     "name": "stdout",
     "output_type": "stream",
     "text": [
      "\u001b[1m143/143\u001b[0m \u001b[32m━━━━━━━━━━━━━━━━━━━━\u001b[0m\u001b[37m\u001b[0m \u001b[1m2s\u001b[0m 15ms/step - accuracy: 0.4157 - loss: 0.5076 - val_accuracy: 0.4243 - val_loss: 0.4667\n",
      "Epoch 3/50\n",
      "\u001b[1m  6/143\u001b[0m \u001b[37m━━━━━━━━━━━━━━━━━━━━\u001b[0m \u001b[1m1s\u001b[0m 12ms/step - accuracy: 0.3740 - loss: 0.4856"
     ]
    },
    {
     "name": "stderr",
     "output_type": "stream",
     "text": [
      "2025-05-04 18:24:27.524203: I tensorflow/core/framework/local_rendezvous.cc:405] Local rendezvous is aborting with status: OUT_OF_RANGE: End of sequence\n",
      "\t [[{{node IteratorGetNext}}]]\n",
      "\t [[IteratorGetNext/_4]]\n"
     ]
    },
    {
     "name": "stdout",
     "output_type": "stream",
     "text": [
      "\u001b[1m143/143\u001b[0m \u001b[32m━━━━━━━━━━━━━━━━━━━━\u001b[0m\u001b[37m\u001b[0m \u001b[1m2s\u001b[0m 15ms/step - accuracy: 0.4619 - loss: 0.4713 - val_accuracy: 0.5661 - val_loss: 0.4463\n",
      "Epoch 4/50\n",
      "\u001b[1m143/143\u001b[0m \u001b[32m━━━━━━━━━━━━━━━━━━━━\u001b[0m\u001b[37m\u001b[0m \u001b[1m2s\u001b[0m 15ms/step - accuracy: 0.5270 - loss: 0.4465 - val_accuracy: 0.6229 - val_loss: 0.4225\n",
      "Epoch 5/50\n",
      "\u001b[1m  7/143\u001b[0m \u001b[37m━━━━━━━━━━━━━━━━━━━━\u001b[0m \u001b[1m1s\u001b[0m 12ms/step - accuracy: 0.5368 - loss: 0.4404"
     ]
    },
    {
     "name": "stderr",
     "output_type": "stream",
     "text": [
      "2025-05-04 18:24:31.925533: I tensorflow/core/framework/local_rendezvous.cc:405] Local rendezvous is aborting with status: OUT_OF_RANGE: End of sequence\n",
      "\t [[{{node IteratorGetNext}}]]\n",
      "\t [[IteratorGetNext/_4]]\n"
     ]
    },
    {
     "name": "stdout",
     "output_type": "stream",
     "text": [
      "\u001b[1m140/143\u001b[0m \u001b[32m━━━━━━━━━━━━━━━━━━━\u001b[0m\u001b[37m━\u001b[0m \u001b[1m0s\u001b[0m 12ms/step - accuracy: 0.5748 - loss: 0.4264"
     ]
    },
    {
     "name": "stderr",
     "output_type": "stream",
     "text": [
      "2025-05-04 18:24:33.682963: I tensorflow/core/framework/local_rendezvous.cc:424] Local rendezvous recv item cancelled. Key hash: 3053671888699155637\n",
      "2025-05-04 18:24:33.682999: I tensorflow/core/framework/local_rendezvous.cc:424] Local rendezvous recv item cancelled. Key hash: 6103064488571288724\n"
     ]
    },
    {
     "name": "stdout",
     "output_type": "stream",
     "text": [
      "\u001b[1m143/143\u001b[0m \u001b[32m━━━━━━━━━━━━━━━━━━━━\u001b[0m\u001b[37m\u001b[0m \u001b[1m2s\u001b[0m 15ms/step - accuracy: 0.5752 - loss: 0.4263 - val_accuracy: 0.6465 - val_loss: 0.3847\n",
      "Epoch 6/50\n",
      "\u001b[1m143/143\u001b[0m \u001b[32m━━━━━━━━━━━━━━━━━━━━\u001b[0m\u001b[37m\u001b[0m \u001b[1m2s\u001b[0m 15ms/step - accuracy: 0.6372 - loss: 0.3963 - val_accuracy: 0.6772 - val_loss: 0.3589\n",
      "Epoch 7/50\n",
      "\u001b[1m139/143\u001b[0m \u001b[32m━━━━━━━━━━━━━━━━━━━\u001b[0m\u001b[37m━\u001b[0m \u001b[1m0s\u001b[0m 12ms/step - accuracy: 0.6589 - loss: 0.3694"
     ]
    },
    {
     "name": "stderr",
     "output_type": "stream",
     "text": [
      "2025-05-04 18:24:38.082946: I tensorflow/core/framework/local_rendezvous.cc:424] Local rendezvous recv item cancelled. Key hash: 3053671888699155637\n",
      "2025-05-04 18:24:38.082982: I tensorflow/core/framework/local_rendezvous.cc:424] Local rendezvous recv item cancelled. Key hash: 6103064488571288724\n"
     ]
    },
    {
     "name": "stdout",
     "output_type": "stream",
     "text": [
      "\u001b[1m143/143\u001b[0m \u001b[32m━━━━━━━━━━━━━━━━━━━━\u001b[0m\u001b[37m\u001b[0m \u001b[1m2s\u001b[0m 15ms/step - accuracy: 0.6587 - loss: 0.3694 - val_accuracy: 0.7069 - val_loss: 0.3392\n",
      "Epoch 8/50\n",
      "\u001b[1m  3/143\u001b[0m \u001b[37m━━━━━━━━━━━━━━━━━━━━\u001b[0m \u001b[1m1s\u001b[0m 12ms/step - accuracy: 0.7066 - loss: 0.3769"
     ]
    },
    {
     "name": "stderr",
     "output_type": "stream",
     "text": [
      "2025-05-04 18:24:38.512124: I tensorflow/core/framework/local_rendezvous.cc:424] Local rendezvous recv item cancelled. Key hash: 3053671888699155637\n",
      "2025-05-04 18:24:38.512235: I tensorflow/core/framework/local_rendezvous.cc:424] Local rendezvous recv item cancelled. Key hash: 6103064488571288724\n"
     ]
    },
    {
     "name": "stdout",
     "output_type": "stream",
     "text": [
      "\u001b[1m143/143\u001b[0m \u001b[32m━━━━━━━━━━━━━━━━━━━━\u001b[0m\u001b[37m\u001b[0m \u001b[1m2s\u001b[0m 15ms/step - accuracy: 0.6781 - loss: 0.3560 - val_accuracy: 0.7192 - val_loss: 0.3235\n",
      "Epoch 9/50\n",
      "\u001b[1m  6/143\u001b[0m \u001b[37m━━━━━━━━━━━━━━━━━━━━\u001b[0m \u001b[1m1s\u001b[0m 12ms/step - accuracy: 0.7256 - loss: 0.3552"
     ]
    },
    {
     "name": "stderr",
     "output_type": "stream",
     "text": [
      "2025-05-04 18:24:40.727114: I tensorflow/core/framework/local_rendezvous.cc:405] Local rendezvous is aborting with status: OUT_OF_RANGE: End of sequence\n",
      "\t [[{{node IteratorGetNext}}]]\n",
      "\t [[IteratorGetNext/_4]]\n"
     ]
    },
    {
     "name": "stdout",
     "output_type": "stream",
     "text": [
      "\u001b[1m143/143\u001b[0m \u001b[32m━━━━━━━━━━━━━━━━━━━━\u001b[0m\u001b[37m\u001b[0m \u001b[1m2s\u001b[0m 15ms/step - accuracy: 0.6932 - loss: 0.3409 - val_accuracy: 0.7402 - val_loss: 0.3092\n",
      "Epoch 10/50\n",
      "\u001b[1m142/143\u001b[0m \u001b[32m━━━━━━━━━━━━━━━━━━━\u001b[0m\u001b[37m━\u001b[0m \u001b[1m0s\u001b[0m 12ms/step - accuracy: 0.7080 - loss: 0.3254"
     ]
    },
    {
     "name": "stderr",
     "output_type": "stream",
     "text": [
      "2025-05-04 18:24:44.732723: I tensorflow/core/framework/local_rendezvous.cc:424] Local rendezvous recv item cancelled. Key hash: 3053671888699155637\n",
      "2025-05-04 18:24:44.732753: I tensorflow/core/framework/local_rendezvous.cc:424] Local rendezvous recv item cancelled. Key hash: 6103064488571288724\n"
     ]
    },
    {
     "name": "stdout",
     "output_type": "stream",
     "text": [
      "\u001b[1m143/143\u001b[0m \u001b[32m━━━━━━━━━━━━━━━━━━━━\u001b[0m\u001b[37m\u001b[0m \u001b[1m365s\u001b[0m 3s/step - accuracy: 0.7080 - loss: 0.3254 - val_accuracy: 0.7559 - val_loss: 0.3012\n",
      "Epoch 11/50\n",
      "\u001b[1m  2/143\u001b[0m \u001b[37m━━━━━━━━━━━━━━━━━━━━\u001b[0m \u001b[1m1s\u001b[0m 13ms/step - accuracy: 0.7266 - loss: 0.3550"
     ]
    },
    {
     "name": "stderr",
     "output_type": "stream",
     "text": [
      "2025-05-04 18:24:46.920624: I tensorflow/core/framework/local_rendezvous.cc:424] Local rendezvous recv item cancelled. Key hash: 3053671888699155637\n",
      "2025-05-04 18:24:46.920665: I tensorflow/core/framework/local_rendezvous.cc:424] Local rendezvous recv item cancelled. Key hash: 6103064488571288724\n"
     ]
    },
    {
     "name": "stdout",
     "output_type": "stream",
     "text": [
      "\u001b[1m143/143\u001b[0m \u001b[32m━━━━━━━━━━━━━━━━━━━━\u001b[0m\u001b[37m\u001b[0m \u001b[1m-360s\u001b[0m -2537114us/step - accuracy: 0.7233 - loss: 0.3173 - val_accuracy: 0.7655 - val_loss: 0.2908\n",
      "Epoch 12/50\n",
      "\u001b[1m140/143\u001b[0m \u001b[32m━━━━━━━━━━━━━━━━━━━\u001b[0m\u001b[37m━\u001b[0m \u001b[1m0s\u001b[0m 12ms/step - accuracy: 0.7230 - loss: 0.3100"
     ]
    },
    {
     "name": "stderr",
     "output_type": "stream",
     "text": [
      "2025-05-04 18:24:49.152623: I tensorflow/core/framework/local_rendezvous.cc:424] Local rendezvous recv item cancelled. Key hash: 3053671888699155637\n",
      "2025-05-04 18:24:49.152660: I tensorflow/core/framework/local_rendezvous.cc:424] Local rendezvous recv item cancelled. Key hash: 6103064488571288724\n"
     ]
    },
    {
     "name": "stdout",
     "output_type": "stream",
     "text": [
      "\u001b[1m143/143\u001b[0m \u001b[32m━━━━━━━━━━━━━━━━━━━━\u001b[0m\u001b[37m\u001b[0m \u001b[1m2s\u001b[0m 15ms/step - accuracy: 0.7228 - loss: 0.3101 - val_accuracy: 0.7524 - val_loss: 0.2872\n",
      "Epoch 13/50\n",
      "\u001b[1m 58/143\u001b[0m \u001b[32m━━━━━━━━\u001b[0m\u001b[37m━━━━━━━━━━━━\u001b[0m \u001b[1m9:01\u001b[0m 6s/step - accuracy: 0.7275 - loss: 0.3033 "
     ]
    },
    {
     "name": "stderr",
     "output_type": "stream",
     "text": [
      "2025-05-04 18:24:51.268892: I tensorflow/core/framework/local_rendezvous.cc:424] Local rendezvous recv item cancelled. Key hash: 3053671888699155637\n",
      "2025-05-04 18:24:51.269167: I tensorflow/core/framework/local_rendezvous.cc:424] Local rendezvous recv item cancelled. Key hash: 6103064488571288724\n"
     ]
    },
    {
     "name": "stdout",
     "output_type": "stream",
     "text": [
      "\u001b[1m143/143\u001b[0m \u001b[32m━━━━━━━━━━━━━━━━━━━━\u001b[0m\u001b[37m\u001b[0m \u001b[1m2s\u001b[0m 15ms/step - accuracy: 0.7277 - loss: 0.3047 - val_accuracy: 0.7655 - val_loss: 0.2834\n",
      "Epoch 14/50\n",
      "\u001b[1m143/143\u001b[0m \u001b[32m━━━━━━━━━━━━━━━━━━━━\u001b[0m\u001b[37m\u001b[0m \u001b[1m2s\u001b[0m 15ms/step - accuracy: 0.7340 - loss: 0.3012 - val_accuracy: 0.7682 - val_loss: 0.2718\n",
      "Epoch 15/50\n",
      "\u001b[1m143/143\u001b[0m \u001b[32m━━━━━━━━━━━━━━━━━━━━\u001b[0m\u001b[37m\u001b[0m \u001b[1m2s\u001b[0m 15ms/step - accuracy: 0.7472 - loss: 0.2931 - val_accuracy: 0.7769 - val_loss: 0.2673\n",
      "Epoch 16/50\n",
      "\u001b[1m143/143\u001b[0m \u001b[32m━━━━━━━━━━━━━━━━━━━━\u001b[0m\u001b[37m\u001b[0m \u001b[1m2s\u001b[0m 15ms/step - accuracy: 0.7470 - loss: 0.2904 - val_accuracy: 0.7734 - val_loss: 0.2643\n",
      "Epoch 17/50\n",
      "\u001b[1m 13/143\u001b[0m \u001b[32m━\u001b[0m\u001b[37m━━━━━━━━━━━━━━━━━━━\u001b[0m \u001b[1m1s\u001b[0m 12ms/step - accuracy: 0.7677 - loss: 0.2775"
     ]
    },
    {
     "name": "stderr",
     "output_type": "stream",
     "text": [
      "2025-05-04 18:24:58.278267: I tensorflow/core/framework/local_rendezvous.cc:405] Local rendezvous is aborting with status: OUT_OF_RANGE: End of sequence\n",
      "\t [[{{node IteratorGetNext}}]]\n",
      "\t [[IteratorGetNext/_4]]\n"
     ]
    },
    {
     "name": "stdout",
     "output_type": "stream",
     "text": [
      "\u001b[1m143/143\u001b[0m \u001b[32m━━━━━━━━━━━━━━━━━━━━\u001b[0m\u001b[37m\u001b[0m \u001b[1m2s\u001b[0m 15ms/step - accuracy: 0.7511 - loss: 0.2845 - val_accuracy: 0.7795 - val_loss: 0.2604\n",
      "Epoch 18/50\n",
      "\u001b[1m142/143\u001b[0m \u001b[32m━━━━━━━━━━━━━━━━━━━\u001b[0m\u001b[37m━\u001b[0m \u001b[1m0s\u001b[0m 12ms/step - accuracy: 0.7533 - loss: 0.2853"
     ]
    },
    {
     "name": "stderr",
     "output_type": "stream",
     "text": [
      "2025-05-04 18:25:02.198174: I tensorflow/core/framework/local_rendezvous.cc:424] Local rendezvous recv item cancelled. Key hash: 3053671888699155637\n",
      "2025-05-04 18:25:02.198206: I tensorflow/core/framework/local_rendezvous.cc:424] Local rendezvous recv item cancelled. Key hash: 6103064488571288724\n"
     ]
    },
    {
     "name": "stdout",
     "output_type": "stream",
     "text": [
      "\u001b[1m143/143\u001b[0m \u001b[32m━━━━━━━━━━━━━━━━━━━━\u001b[0m\u001b[37m\u001b[0m \u001b[1m2s\u001b[0m 15ms/step - accuracy: 0.7533 - loss: 0.2854 - val_accuracy: 0.7857 - val_loss: 0.2596\n",
      "Epoch 19/50\n",
      "\u001b[1m  7/143\u001b[0m \u001b[37m━━━━━━━━━━━━━━━━━━━━\u001b[0m \u001b[1m1s\u001b[0m 11ms/step - accuracy: 0.8068 - loss: 0.2599"
     ]
    },
    {
     "name": "stderr",
     "output_type": "stream",
     "text": [
      "2025-05-04 18:25:02.637021: I tensorflow/core/framework/local_rendezvous.cc:424] Local rendezvous recv item cancelled. Key hash: 3053671888699155637\n",
      "2025-05-04 18:25:02.637077: I tensorflow/core/framework/local_rendezvous.cc:424] Local rendezvous recv item cancelled. Key hash: 6103064488571288724\n"
     ]
    },
    {
     "name": "stdout",
     "output_type": "stream",
     "text": [
      "\u001b[1m143/143\u001b[0m \u001b[32m━━━━━━━━━━━━━━━━━━━━\u001b[0m\u001b[37m\u001b[0m \u001b[1m0s\u001b[0m 12ms/step - accuracy: 0.7613 - loss: 0.2760"
     ]
    },
    {
     "name": "stderr",
     "output_type": "stream",
     "text": [
      "2025-05-04 18:25:04.416582: I tensorflow/core/framework/local_rendezvous.cc:424] Local rendezvous recv item cancelled. Key hash: 3053671888699155637\n",
      "2025-05-04 18:25:04.416621: I tensorflow/core/framework/local_rendezvous.cc:424] Local rendezvous recv item cancelled. Key hash: 6103064488571288724\n"
     ]
    },
    {
     "name": "stdout",
     "output_type": "stream",
     "text": [
      "\u001b[1m143/143\u001b[0m \u001b[32m━━━━━━━━━━━━━━━━━━━━\u001b[0m\u001b[37m\u001b[0m \u001b[1m2s\u001b[0m 15ms/step - accuracy: 0.7613 - loss: 0.2760 - val_accuracy: 0.7848 - val_loss: 0.2539\n",
      "Epoch 20/50\n",
      "\u001b[1m 38/143\u001b[0m \u001b[32m━━━━━\u001b[0m\u001b[37m━━━━━━━━━━━━━━━\u001b[0m \u001b[1m17:09\u001b[0m 10s/step - accuracy: 0.7798 - loss: 0.2667"
     ]
    },
    {
     "name": "stderr",
     "output_type": "stream",
     "text": [
      "2025-05-04 18:25:06.544953: I tensorflow/core/framework/local_rendezvous.cc:424] Local rendezvous recv item cancelled. Key hash: 3053671888699155637\n",
      "2025-05-04 18:25:06.544996: I tensorflow/core/framework/local_rendezvous.cc:424] Local rendezvous recv item cancelled. Key hash: 6103064488571288724\n"
     ]
    },
    {
     "name": "stdout",
     "output_type": "stream",
     "text": [
      "\u001b[1m143/143\u001b[0m \u001b[32m━━━━━━━━━━━━━━━━━━━━\u001b[0m\u001b[37m\u001b[0m \u001b[1m2s\u001b[0m 15ms/step - accuracy: 0.7607 - loss: 0.2746 - val_accuracy: 0.7970 - val_loss: 0.2521\n",
      "Epoch 21/50\n",
      "\u001b[1m143/143\u001b[0m \u001b[32m━━━━━━━━━━━━━━━━━━━━\u001b[0m\u001b[37m\u001b[0m \u001b[1m2s\u001b[0m 15ms/step - accuracy: 0.7649 - loss: 0.2726 - val_accuracy: 0.7935 - val_loss: 0.2471\n",
      "Epoch 22/50\n",
      "\u001b[1m143/143\u001b[0m \u001b[32m━━━━━━━━━━━━━━━━━━━━\u001b[0m\u001b[37m\u001b[0m \u001b[1m2s\u001b[0m 15ms/step - accuracy: 0.7614 - loss: 0.2684 - val_accuracy: 0.7953 - val_loss: 0.2466\n",
      "Epoch 23/50\n",
      "\u001b[1m143/143\u001b[0m \u001b[32m━━━━━━━━━━━━━━━━━━━━\u001b[0m\u001b[37m\u001b[0m \u001b[1m2s\u001b[0m 16ms/step - accuracy: 0.7766 - loss: 0.2658 - val_accuracy: 0.8014 - val_loss: 0.2451\n",
      "Epoch 24/50\n",
      "\u001b[1m143/143\u001b[0m \u001b[32m━━━━━━━━━━━━━━━━━━━━\u001b[0m\u001b[37m\u001b[0m \u001b[1m2s\u001b[0m 15ms/step - accuracy: 0.7724 - loss: 0.2661 - val_accuracy: 0.8023 - val_loss: 0.2411\n",
      "Epoch 25/50\n",
      "\u001b[1m143/143\u001b[0m \u001b[32m━━━━━━━━━━━━━━━━━━━━\u001b[0m\u001b[37m\u001b[0m \u001b[1m2s\u001b[0m 15ms/step - accuracy: 0.7677 - loss: 0.2701 - val_accuracy: 0.7979 - val_loss: 0.2441\n",
      "Epoch 26/50\n",
      "\u001b[1m142/143\u001b[0m \u001b[32m━━━━━━━━━━━━━━━━━━━\u001b[0m\u001b[37m━\u001b[0m \u001b[1m0s\u001b[0m 12ms/step - accuracy: 0.7693 - loss: 0.2635"
     ]
    },
    {
     "name": "stderr",
     "output_type": "stream",
     "text": [
      "2025-05-04 18:25:19.885396: I tensorflow/core/framework/local_rendezvous.cc:424] Local rendezvous recv item cancelled. Key hash: 3053671888699155637\n",
      "2025-05-04 18:25:19.885430: I tensorflow/core/framework/local_rendezvous.cc:424] Local rendezvous recv item cancelled. Key hash: 6103064488571288724\n"
     ]
    },
    {
     "name": "stdout",
     "output_type": "stream",
     "text": [
      "\u001b[1m143/143\u001b[0m \u001b[32m━━━━━━━━━━━━━━━━━━━━\u001b[0m\u001b[37m\u001b[0m \u001b[1m2s\u001b[0m 15ms/step - accuracy: 0.7693 - loss: 0.2635 - val_accuracy: 0.8066 - val_loss: 0.2394\n",
      "Epoch 27/50\n",
      "\u001b[1m139/143\u001b[0m \u001b[32m━━━━━━━━━━━━━━━━━━━\u001b[0m\u001b[37m━\u001b[0m \u001b[1m0s\u001b[0m 12ms/step - accuracy: 0.7714 - loss: 0.2621"
     ]
    },
    {
     "name": "stderr",
     "output_type": "stream",
     "text": [
      "2025-05-04 18:25:22.132126: I tensorflow/core/framework/local_rendezvous.cc:424] Local rendezvous recv item cancelled. Key hash: 3053671888699155637\n",
      "2025-05-04 18:25:22.132168: I tensorflow/core/framework/local_rendezvous.cc:424] Local rendezvous recv item cancelled. Key hash: 6103064488571288724\n"
     ]
    },
    {
     "name": "stdout",
     "output_type": "stream",
     "text": [
      "\u001b[1m143/143\u001b[0m \u001b[32m━━━━━━━━━━━━━━━━━━━━\u001b[0m\u001b[37m\u001b[0m \u001b[1m2s\u001b[0m 15ms/step - accuracy: 0.7713 - loss: 0.2622 - val_accuracy: 0.8066 - val_loss: 0.2373\n",
      "Epoch 28/50\n",
      "\u001b[1m143/143\u001b[0m \u001b[32m━━━━━━━━━━━━━━━━━━━━\u001b[0m\u001b[37m\u001b[0m \u001b[1m0s\u001b[0m 12ms/step - accuracy: 0.7705 - loss: 0.2605"
     ]
    },
    {
     "name": "stderr",
     "output_type": "stream",
     "text": [
      "2025-05-04 18:25:24.329615: I tensorflow/core/framework/local_rendezvous.cc:424] Local rendezvous recv item cancelled. Key hash: 3053671888699155637\n",
      "2025-05-04 18:25:24.329656: I tensorflow/core/framework/local_rendezvous.cc:424] Local rendezvous recv item cancelled. Key hash: 6103064488571288724\n"
     ]
    },
    {
     "name": "stdout",
     "output_type": "stream",
     "text": [
      "\u001b[1m143/143\u001b[0m \u001b[32m━━━━━━━━━━━━━━━━━━━━\u001b[0m\u001b[37m\u001b[0m \u001b[1m2s\u001b[0m 15ms/step - accuracy: 0.7705 - loss: 0.2605 - val_accuracy: 0.7997 - val_loss: 0.2366\n",
      "Epoch 29/50\n",
      "\u001b[1m 44/143\u001b[0m \u001b[32m━━━━━━\u001b[0m\u001b[37m━━━━━━━━━━━━━━\u001b[0m \u001b[1m13:55\u001b[0m 8s/step - accuracy: 0.8084 - loss: 0.2432 "
     ]
    },
    {
     "name": "stderr",
     "output_type": "stream",
     "text": [
      "2025-05-04 18:25:26.460306: I tensorflow/core/framework/local_rendezvous.cc:424] Local rendezvous recv item cancelled. Key hash: 3053671888699155637\n",
      "2025-05-04 18:25:26.460343: I tensorflow/core/framework/local_rendezvous.cc:424] Local rendezvous recv item cancelled. Key hash: 6103064488571288724\n"
     ]
    },
    {
     "name": "stdout",
     "output_type": "stream",
     "text": [
      "\u001b[1m143/143\u001b[0m \u001b[32m━━━━━━━━━━━━━━━━━━━━\u001b[0m\u001b[37m\u001b[0m \u001b[1m2s\u001b[0m 15ms/step - accuracy: 0.7870 - loss: 0.2528 - val_accuracy: 0.8040 - val_loss: 0.2335\n",
      "Epoch 30/50\n",
      "\u001b[1m143/143\u001b[0m \u001b[32m━━━━━━━━━━━━━━━━━━━━\u001b[0m\u001b[37m\u001b[0m \u001b[1m0s\u001b[0m 12ms/step - accuracy: 0.7750 - loss: 0.2572"
     ]
    },
    {
     "name": "stderr",
     "output_type": "stream",
     "text": [
      "2025-05-04 18:25:28.597087: I tensorflow/core/framework/local_rendezvous.cc:424] Local rendezvous recv item cancelled. Key hash: 3053671888699155637\n",
      "2025-05-04 18:25:28.597128: I tensorflow/core/framework/local_rendezvous.cc:424] Local rendezvous recv item cancelled. Key hash: 6103064488571288724\n"
     ]
    },
    {
     "name": "stdout",
     "output_type": "stream",
     "text": [
      "\u001b[1m143/143\u001b[0m \u001b[32m━━━━━━━━━━━━━━━━━━━━\u001b[0m\u001b[37m\u001b[0m \u001b[1m2s\u001b[0m 15ms/step - accuracy: 0.7750 - loss: 0.2572 - val_accuracy: 0.8110 - val_loss: 0.2323\n",
      "Epoch 31/50\n",
      "\u001b[1m143/143\u001b[0m \u001b[32m━━━━━━━━━━━━━━━━━━━━\u001b[0m\u001b[37m\u001b[0m \u001b[1m2s\u001b[0m 15ms/step - accuracy: 0.7868 - loss: 0.2519 - val_accuracy: 0.8093 - val_loss: 0.2291\n",
      "Epoch 32/50\n",
      "\u001b[1m143/143\u001b[0m \u001b[32m━━━━━━━━━━━━━━━━━━━━\u001b[0m\u001b[37m\u001b[0m \u001b[1m0s\u001b[0m 12ms/step - accuracy: 0.7856 - loss: 0.2484"
     ]
    },
    {
     "name": "stderr",
     "output_type": "stream",
     "text": [
      "2025-05-04 18:25:32.937871: I tensorflow/core/framework/local_rendezvous.cc:424] Local rendezvous recv item cancelled. Key hash: 3053671888699155637\n",
      "2025-05-04 18:25:32.937911: I tensorflow/core/framework/local_rendezvous.cc:424] Local rendezvous recv item cancelled. Key hash: 6103064488571288724\n"
     ]
    },
    {
     "name": "stdout",
     "output_type": "stream",
     "text": [
      "\u001b[1m143/143\u001b[0m \u001b[32m━━━━━━━━━━━━━━━━━━━━\u001b[0m\u001b[37m\u001b[0m \u001b[1m2s\u001b[0m 15ms/step - accuracy: 0.7856 - loss: 0.2484 - val_accuracy: 0.8128 - val_loss: 0.2325\n",
      "Epoch 33/50\n",
      "\u001b[1m  6/143\u001b[0m \u001b[37m━━━━━━━━━━━━━━━━━━━━\u001b[0m \u001b[1m1s\u001b[0m 13ms/step - accuracy: 0.8201 - loss: 0.2292"
     ]
    },
    {
     "name": "stderr",
     "output_type": "stream",
     "text": [
      "2025-05-04 18:25:33.374118: I tensorflow/core/framework/local_rendezvous.cc:405] Local rendezvous is aborting with status: OUT_OF_RANGE: End of sequence\n",
      "\t [[{{node IteratorGetNext}}]]\n",
      "\t [[IteratorGetNext/_4]]\n"
     ]
    },
    {
     "name": "stdout",
     "output_type": "stream",
     "text": [
      "\u001b[1m143/143\u001b[0m \u001b[32m━━━━━━━━━━━━━━━━━━━━\u001b[0m\u001b[37m\u001b[0m \u001b[1m0s\u001b[0m 12ms/step - accuracy: 0.7797 - loss: 0.2543"
     ]
    },
    {
     "name": "stderr",
     "output_type": "stream",
     "text": [
      "2025-05-04 18:25:35.159435: I tensorflow/core/framework/local_rendezvous.cc:424] Local rendezvous recv item cancelled. Key hash: 3053671888699155637\n",
      "2025-05-04 18:25:35.159472: I tensorflow/core/framework/local_rendezvous.cc:424] Local rendezvous recv item cancelled. Key hash: 6103064488571288724\n"
     ]
    },
    {
     "name": "stdout",
     "output_type": "stream",
     "text": [
      "\u001b[1m143/143\u001b[0m \u001b[32m━━━━━━━━━━━━━━━━━━━━\u001b[0m\u001b[37m\u001b[0m \u001b[1m2s\u001b[0m 15ms/step - accuracy: 0.7797 - loss: 0.2544 - val_accuracy: 0.8066 - val_loss: 0.2297\n",
      "Epoch 34/50\n",
      "\u001b[1m143/143\u001b[0m \u001b[32m━━━━━━━━━━━━━━━━━━━━\u001b[0m\u001b[37m\u001b[0m \u001b[1m2s\u001b[0m 15ms/step - accuracy: 0.7829 - loss: 0.2529 - val_accuracy: 0.8084 - val_loss: 0.2268\n",
      "Epoch 35/50\n",
      "\u001b[1m143/143\u001b[0m \u001b[32m━━━━━━━━━━━━━━━━━━━━\u001b[0m\u001b[37m\u001b[0m \u001b[1m2s\u001b[0m 15ms/step - accuracy: 0.7837 - loss: 0.2490 - val_accuracy: 0.8093 - val_loss: 0.2302\n",
      "Epoch 36/50\n",
      "\u001b[1m 40/143\u001b[0m \u001b[32m━━━━━\u001b[0m\u001b[37m━━━━━━━━━━━━━━━\u001b[0m \u001b[1m15:58\u001b[0m 9s/step - accuracy: 0.7798 - loss: 0.2461 "
     ]
    },
    {
     "name": "stderr",
     "output_type": "stream",
     "text": [
      "2025-05-04 18:25:41.561499: I tensorflow/core/framework/local_rendezvous.cc:424] Local rendezvous recv item cancelled. Key hash: 3053671888699155637\n",
      "2025-05-04 18:25:41.561538: I tensorflow/core/framework/local_rendezvous.cc:424] Local rendezvous recv item cancelled. Key hash: 6103064488571288724\n"
     ]
    },
    {
     "name": "stdout",
     "output_type": "stream",
     "text": [
      "\u001b[1m143/143\u001b[0m \u001b[32m━━━━━━━━━━━━━━━━━━━━\u001b[0m\u001b[37m\u001b[0m \u001b[1m2s\u001b[0m 15ms/step - accuracy: 0.7802 - loss: 0.2483 - val_accuracy: 0.8189 - val_loss: 0.2261\n",
      "Epoch 37/50\n",
      "\u001b[1m143/143\u001b[0m \u001b[32m━━━━━━━━━━━━━━━━━━━━\u001b[0m\u001b[37m\u001b[0m \u001b[1m2s\u001b[0m 15ms/step - accuracy: 0.7880 - loss: 0.2448 - val_accuracy: 0.8084 - val_loss: 0.2264\n",
      "Epoch 38/50\n",
      "\u001b[1m 95/143\u001b[0m \u001b[32m━━━━━━━━━━━━━\u001b[0m\u001b[37m━━━━━━━\u001b[0m \u001b[1m3:05\u001b[0m 4s/step - accuracy: 0.7902 - loss: 0.2459"
     ]
    },
    {
     "name": "stderr",
     "output_type": "stream",
     "text": [
      "2025-05-04 18:25:45.893132: I tensorflow/core/framework/local_rendezvous.cc:424] Local rendezvous recv item cancelled. Key hash: 3053671888699155637\n",
      "2025-05-04 18:25:45.893171: I tensorflow/core/framework/local_rendezvous.cc:424] Local rendezvous recv item cancelled. Key hash: 6103064488571288724\n"
     ]
    },
    {
     "name": "stdout",
     "output_type": "stream",
     "text": [
      "\u001b[1m143/143\u001b[0m \u001b[32m━━━━━━━━━━━━━━━━━━━━\u001b[0m\u001b[37m\u001b[0m \u001b[1m2s\u001b[0m 15ms/step - accuracy: 0.7886 - loss: 0.2470 - val_accuracy: 0.8084 - val_loss: 0.2249\n",
      "Epoch 39/50\n",
      "\u001b[1m143/143\u001b[0m \u001b[32m━━━━━━━━━━━━━━━━━━━━\u001b[0m\u001b[37m\u001b[0m \u001b[1m2s\u001b[0m 15ms/step - accuracy: 0.7859 - loss: 0.2486 - val_accuracy: 0.8171 - val_loss: 0.2225\n",
      "Epoch 40/50\n",
      "\u001b[1m141/143\u001b[0m \u001b[32m━━━━━━━━━━━━━━━━━━━\u001b[0m\u001b[37m━\u001b[0m \u001b[1m0s\u001b[0m 12ms/step - accuracy: 0.7844 - loss: 0.2422"
     ]
    },
    {
     "name": "stderr",
     "output_type": "stream",
     "text": [
      "2025-05-04 18:25:50.166967: I tensorflow/core/framework/local_rendezvous.cc:424] Local rendezvous recv item cancelled. Key hash: 3053671888699155637\n",
      "2025-05-04 18:25:50.167004: I tensorflow/core/framework/local_rendezvous.cc:424] Local rendezvous recv item cancelled. Key hash: 6103064488571288724\n"
     ]
    },
    {
     "name": "stdout",
     "output_type": "stream",
     "text": [
      "\u001b[1m143/143\u001b[0m \u001b[32m━━━━━━━━━━━━━━━━━━━━\u001b[0m\u001b[37m\u001b[0m \u001b[1m2s\u001b[0m 15ms/step - accuracy: 0.7843 - loss: 0.2423 - val_accuracy: 0.8145 - val_loss: 0.2241\n",
      "Epoch 41/50\n",
      "\u001b[1m143/143\u001b[0m \u001b[32m━━━━━━━━━━━━━━━━━━━━\u001b[0m\u001b[37m\u001b[0m \u001b[1m2s\u001b[0m 15ms/step - accuracy: 0.7941 - loss: 0.2452 - val_accuracy: 0.8189 - val_loss: 0.2225\n"
     ]
    }
   ],
   "source": [
    "from tensorflow.keras import callbacks\n",
    "early_stop = callbacks.EarlyStopping(patience=5, restore_best_weights=True, min_delta=0.001, monitor='val_accuracy', mode='max')\n",
    "reduce_lr = callbacks.ReduceLROnPlateau(patience=3, factor=0.5, verbose=1)\n",
    "history = model.fit(\n",
    "    train_ds,\n",
    "    validation_data=val_ds,\n",
    "    epochs=50,\n",
    "    callbacks=[early_stop]\n",
    ")"
   ]
  },
  {
   "cell_type": "code",
   "execution_count": 14,
   "id": "3b31fbbb",
   "metadata": {},
   "outputs": [],
   "source": [
    "#model.save(\"cnn_resnet_freeze.keras\")\n",
    "#model = load_model(\"cnn_resnet_freeze.keras\")\n",
    "classifier_head_weights = [layer.get_weights() for layer in model.layers[-8:]]"
   ]
  },
  {
   "cell_type": "code",
   "execution_count": 15,
   "id": "4c57c2b0",
   "metadata": {},
   "outputs": [],
   "source": [
    "from tensorflow.keras.models import load_model\n",
    "#model = load_model(\"cnn_80_pretune.keras\")"
   ]
  },
  {
   "cell_type": "code",
   "execution_count": null,
   "id": "045f54ec",
   "metadata": {},
   "outputs": [],
   "source": [
    "base_model.trainable = True\n",
    "\n",
    "for layer in base_model.layers[:-80]:\n",
    "    layer.trainable = False"
   ]
  },
  {
   "cell_type": "code",
   "execution_count": 17,
   "id": "ecfb326c",
   "metadata": {},
   "outputs": [],
   "source": [
    "model.compile(\n",
    "    optimizer=tf.keras.optimizers.Adam(learning_rate=1e-6),\n",
    "    loss='binary_crossentropy',\n",
    "\tmetrics=['accuracy']\n",
    ")"
   ]
  },
  {
   "cell_type": "code",
   "execution_count": 18,
   "id": "66c7b500",
   "metadata": {},
   "outputs": [],
   "source": [
    "for i, layer in enumerate(model.layers[-8:]):\n",
    "    layer.set_weights(classifier_head_weights[i])"
   ]
  },
  {
   "cell_type": "code",
   "execution_count": 19,
   "id": "320fa80b",
   "metadata": {},
   "outputs": [
    {
     "name": "stdout",
     "output_type": "stream",
     "text": [
      "Epoch 1/50\n"
     ]
    },
    {
     "name": "stderr",
     "output_type": "stream",
     "text": [
      "2025-05-04 18:26:01.627574: I external/local_xla/xla/stream_executor/cuda/cuda_asm_compiler.cc:397] ptxas warning : Registers are spilled to local memory in function 'gemm_fusion_dot_12169', 104 bytes spill stores, 104 bytes spill loads\n",
      "\n"
     ]
    },
    {
     "name": "stdout",
     "output_type": "stream",
     "text": [
      "\u001b[1m143/143\u001b[0m \u001b[32m━━━━━━━━━━━━━━━━━━━━\u001b[0m\u001b[37m\u001b[0m \u001b[1m25s\u001b[0m 85ms/step - accuracy: 0.3800 - loss: 4.2801 - val_accuracy: 0.2773 - val_loss: 4.3315 - learning_rate: 1.0000e-06\n",
      "Epoch 2/50\n",
      "\u001b[1m143/143\u001b[0m \u001b[32m━━━━━━━━━━━━━━━━━━━━\u001b[0m\u001b[37m\u001b[0m \u001b[1m4s\u001b[0m 26ms/step - accuracy: 0.5674 - loss: 1.0729 - val_accuracy: 0.2852 - val_loss: 3.2377 - learning_rate: 1.0000e-06\n",
      "Epoch 3/50\n",
      "\u001b[1m143/143\u001b[0m \u001b[32m━━━━━━━━━━━━━━━━━━━━\u001b[0m\u001b[37m\u001b[0m \u001b[1m4s\u001b[0m 28ms/step - accuracy: 0.6915 - loss: 0.6339 - val_accuracy: 0.7095 - val_loss: 0.4746 - learning_rate: 1.0000e-06\n",
      "Epoch 4/50\n",
      "\u001b[1m143/143\u001b[0m \u001b[32m━━━━━━━━━━━━━━━━━━━━\u001b[0m\u001b[37m\u001b[0m \u001b[1m4s\u001b[0m 25ms/step - accuracy: 0.7306 - loss: 0.4486 - val_accuracy: 0.7638 - val_loss: 0.3708 - learning_rate: 1.0000e-06\n",
      "Epoch 5/50\n",
      "\u001b[1m143/143\u001b[0m \u001b[32m━━━━━━━━━━━━━━━━━━━━\u001b[0m\u001b[37m\u001b[0m \u001b[1m4s\u001b[0m 25ms/step - accuracy: 0.7739 - loss: 0.3566 - val_accuracy: 0.7979 - val_loss: 0.3261 - learning_rate: 1.0000e-06\n",
      "Epoch 6/50\n",
      "\u001b[1m143/143\u001b[0m \u001b[32m━━━━━━━━━━━━━━━━━━━━\u001b[0m\u001b[37m\u001b[0m \u001b[1m4s\u001b[0m 25ms/step - accuracy: 0.7939 - loss: 0.3126 - val_accuracy: 0.8119 - val_loss: 0.2909 - learning_rate: 1.0000e-06\n",
      "Epoch 7/50\n",
      "\u001b[1m143/143\u001b[0m \u001b[32m━━━━━━━━━━━━━━━━━━━━\u001b[0m\u001b[37m\u001b[0m \u001b[1m4s\u001b[0m 26ms/step - accuracy: 0.8219 - loss: 0.2590 - val_accuracy: 0.8154 - val_loss: 0.2755 - learning_rate: 1.0000e-06\n",
      "Epoch 8/50\n",
      "\u001b[1m143/143\u001b[0m \u001b[32m━━━━━━━━━━━━━━━━━━━━\u001b[0m\u001b[37m\u001b[0m \u001b[1m4s\u001b[0m 25ms/step - accuracy: 0.8441 - loss: 0.2149 - val_accuracy: 0.8346 - val_loss: 0.2657 - learning_rate: 1.0000e-06\n",
      "Epoch 9/50\n",
      "\u001b[1m143/143\u001b[0m \u001b[32m━━━━━━━━━━━━━━━━━━━━\u001b[0m\u001b[37m\u001b[0m \u001b[1m4s\u001b[0m 25ms/step - accuracy: 0.8437 - loss: 0.2026 - val_accuracy: 0.8408 - val_loss: 0.2458 - learning_rate: 1.0000e-06\n",
      "Epoch 10/50\n",
      "\u001b[1m143/143\u001b[0m \u001b[32m━━━━━━━━━━━━━━━━━━━━\u001b[0m\u001b[37m\u001b[0m \u001b[1m4s\u001b[0m 25ms/step - accuracy: 0.8706 - loss: 0.1692 - val_accuracy: 0.8521 - val_loss: 0.2345 - learning_rate: 1.0000e-06\n",
      "Epoch 11/50\n",
      "\u001b[1m143/143\u001b[0m \u001b[32m━━━━━━━━━━━━━━━━━━━━\u001b[0m\u001b[37m\u001b[0m \u001b[1m4s\u001b[0m 25ms/step - accuracy: 0.8774 - loss: 0.1609 - val_accuracy: 0.8583 - val_loss: 0.2302 - learning_rate: 1.0000e-06\n",
      "Epoch 12/50\n",
      "\u001b[1m143/143\u001b[0m \u001b[32m━━━━━━━━━━━━━━━━━━━━\u001b[0m\u001b[37m\u001b[0m \u001b[1m4s\u001b[0m 26ms/step - accuracy: 0.8961 - loss: 0.1411 - val_accuracy: 0.8574 - val_loss: 0.2311 - learning_rate: 1.0000e-06\n",
      "Epoch 13/50\n",
      "\u001b[1m143/143\u001b[0m \u001b[32m━━━━━━━━━━━━━━━━━━━━\u001b[0m\u001b[37m\u001b[0m \u001b[1m4s\u001b[0m 25ms/step - accuracy: 0.9024 - loss: 0.1231 - val_accuracy: 0.8705 - val_loss: 0.2201 - learning_rate: 1.0000e-06\n",
      "Epoch 14/50\n",
      "\u001b[1m143/143\u001b[0m \u001b[32m━━━━━━━━━━━━━━━━━━━━\u001b[0m\u001b[37m\u001b[0m \u001b[1m4s\u001b[0m 25ms/step - accuracy: 0.9172 - loss: 0.1135 - val_accuracy: 0.8740 - val_loss: 0.2147 - learning_rate: 1.0000e-06\n",
      "Epoch 15/50\n",
      "\u001b[1m143/143\u001b[0m \u001b[32m━━━━━━━━━━━━━━━━━━━━\u001b[0m\u001b[37m\u001b[0m \u001b[1m4s\u001b[0m 26ms/step - accuracy: 0.9304 - loss: 0.0969 - val_accuracy: 0.8740 - val_loss: 0.2214 - learning_rate: 1.0000e-06\n",
      "Epoch 16/50\n",
      "\u001b[1m143/143\u001b[0m \u001b[32m━━━━━━━━━━━━━━━━━━━━\u001b[0m\u001b[37m\u001b[0m \u001b[1m4s\u001b[0m 26ms/step - accuracy: 0.9413 - loss: 0.0878 - val_accuracy: 0.8793 - val_loss: 0.2162 - learning_rate: 1.0000e-06\n",
      "Epoch 17/50\n",
      "\u001b[1m143/143\u001b[0m \u001b[32m━━━━━━━━━━━━━━━━━━━━\u001b[0m\u001b[37m\u001b[0m \u001b[1m4s\u001b[0m 25ms/step - accuracy: 0.9494 - loss: 0.0764 - val_accuracy: 0.8828 - val_loss: 0.2121 - learning_rate: 1.0000e-06\n",
      "Epoch 18/50\n",
      "\u001b[1m143/143\u001b[0m \u001b[32m━━━━━━━━━━━━━━━━━━━━\u001b[0m\u001b[37m\u001b[0m \u001b[1m366s\u001b[0m 3s/step - accuracy: 0.9527 - loss: 0.0729 - val_accuracy: 0.8863 - val_loss: 0.2044 - learning_rate: 1.0000e-06\n",
      "Epoch 19/50\n",
      "\u001b[1m143/143\u001b[0m \u001b[32m━━━━━━━━━━━━━━━━━━━━\u001b[0m\u001b[37m\u001b[0m \u001b[1m-359s\u001b[0m -2526855us/step - accuracy: 0.9597 - loss: 0.0642 - val_accuracy: 0.8801 - val_loss: 0.2075 - learning_rate: 1.0000e-06\n",
      "Epoch 20/50\n",
      "\u001b[1m143/143\u001b[0m \u001b[32m━━━━━━━━━━━━━━━━━━━━\u001b[0m\u001b[37m\u001b[0m \u001b[1m4s\u001b[0m 25ms/step - accuracy: 0.9651 - loss: 0.0593 - val_accuracy: 0.8933 - val_loss: 0.2050 - learning_rate: 1.0000e-06\n",
      "Epoch 21/50\n",
      "\u001b[1m120/143\u001b[0m \u001b[32m━━━━━━━━━━━━━━━━\u001b[0m\u001b[37m━━━━\u001b[0m \u001b[1m1:10\u001b[0m 3s/step - accuracy: 0.9718 - loss: 0.0505\n",
      "Epoch 21: ReduceLROnPlateau reducing learning rate to 4.999999987376214e-07.\n",
      "\u001b[1m143/143\u001b[0m \u001b[32m━━━━━━━━━━━━━━━━━━━━\u001b[0m\u001b[37m\u001b[0m \u001b[1m4s\u001b[0m 25ms/step - accuracy: 0.9713 - loss: 0.0506 - val_accuracy: 0.8889 - val_loss: 0.2064 - learning_rate: 1.0000e-06\n",
      "Epoch 22/50\n",
      "\u001b[1m143/143\u001b[0m \u001b[32m━━━━━━━━━━━━━━━━━━━━\u001b[0m\u001b[37m\u001b[0m \u001b[1m4s\u001b[0m 25ms/step - accuracy: 0.9790 - loss: 0.0429 - val_accuracy: 0.8968 - val_loss: 0.1994 - learning_rate: 5.0000e-07\n",
      "Epoch 23/50\n",
      "\u001b[1m143/143\u001b[0m \u001b[32m━━━━━━━━━━━━━━━━━━━━\u001b[0m\u001b[37m\u001b[0m \u001b[1m4s\u001b[0m 25ms/step - accuracy: 0.9798 - loss: 0.0363 - val_accuracy: 0.8906 - val_loss: 0.2021 - learning_rate: 5.0000e-07\n",
      "Epoch 24/50\n",
      "\u001b[1m  7/143\u001b[0m \u001b[37m━━━━━━━━━━━━━━━━━━━━\u001b[0m \u001b[1m2s\u001b[0m 22ms/step - accuracy: 0.9763 - loss: 0.0438"
     ]
    },
    {
     "name": "stderr",
     "output_type": "stream",
     "text": [
      "2025-05-04 18:27:38.778069: I tensorflow/core/framework/local_rendezvous.cc:405] Local rendezvous is aborting with status: OUT_OF_RANGE: End of sequence\n",
      "\t [[{{node IteratorGetNext}}]]\n",
      "\t [[IteratorGetNext/_2]]\n"
     ]
    },
    {
     "name": "stdout",
     "output_type": "stream",
     "text": [
      "\u001b[1m143/143\u001b[0m \u001b[32m━━━━━━━━━━━━━━━━━━━━\u001b[0m\u001b[37m\u001b[0m \u001b[1m4s\u001b[0m 25ms/step - accuracy: 0.9829 - loss: 0.0367 - val_accuracy: 0.8898 - val_loss: 0.2060 - learning_rate: 5.0000e-07\n",
      "Epoch 25/50\n",
      "\u001b[1m137/143\u001b[0m \u001b[32m━━━━━━━━━━━━━━━━━━━\u001b[0m\u001b[37m━\u001b[0m \u001b[1m16s\u001b[0m 3s/step - accuracy: 0.9846 - loss: 0.0362\n",
      "Epoch 25: ReduceLROnPlateau reducing learning rate to 2.499999993688107e-07.\n",
      "\u001b[1m143/143\u001b[0m \u001b[32m━━━━━━━━━━━━━━━━━━━━\u001b[0m\u001b[37m\u001b[0m \u001b[1m4s\u001b[0m 25ms/step - accuracy: 0.9848 - loss: 0.0361 - val_accuracy: 0.8854 - val_loss: 0.2089 - learning_rate: 5.0000e-07\n",
      "Epoch 26/50\n",
      "\u001b[1m143/143\u001b[0m \u001b[32m━━━━━━━━━━━━━━━━━━━━\u001b[0m\u001b[37m\u001b[0m \u001b[1m4s\u001b[0m 25ms/step - accuracy: 0.9870 - loss: 0.0334 - val_accuracy: 0.8933 - val_loss: 0.2046 - learning_rate: 2.5000e-07\n",
      "Epoch 27/50\n",
      "\u001b[1m143/143\u001b[0m \u001b[32m━━━━━━━━━━━━━━━━━━━━\u001b[0m\u001b[37m\u001b[0m \u001b[1m4s\u001b[0m 25ms/step - accuracy: 0.9855 - loss: 0.0317 - val_accuracy: 0.8941 - val_loss: 0.2037 - learning_rate: 2.5000e-07\n",
      "Epoch 28/50\n",
      "\u001b[1m142/143\u001b[0m \u001b[32m━━━━━━━━━━━━━━━━━━━\u001b[0m\u001b[37m━\u001b[0m \u001b[1m2s\u001b[0m 3s/step - accuracy: 0.9904 - loss: 0.0265 \n",
      "Epoch 28: ReduceLROnPlateau reducing learning rate to 1.2499999968440534e-07.\n",
      "\u001b[1m143/143\u001b[0m \u001b[32m━━━━━━━━━━━━━━━━━━━━\u001b[0m\u001b[37m\u001b[0m \u001b[1m366s\u001b[0m 3s/step - accuracy: 0.9904 - loss: 0.0265 - val_accuracy: 0.8950 - val_loss: 0.2056 - learning_rate: 2.5000e-07\n",
      "Epoch 29/50\n",
      "\u001b[1m143/143\u001b[0m \u001b[32m━━━━━━━━━━━━━━━━━━━━\u001b[0m\u001b[37m\u001b[0m \u001b[1m4s\u001b[0m 26ms/step - accuracy: 0.9931 - loss: 0.0235 - val_accuracy: 0.8880 - val_loss: 0.2111 - learning_rate: 1.2500e-07\n",
      "Epoch 30/50\n",
      "\u001b[1m143/143\u001b[0m \u001b[32m━━━━━━━━━━━━━━━━━━━━\u001b[0m\u001b[37m\u001b[0m \u001b[1m4s\u001b[0m 25ms/step - accuracy: 0.9882 - loss: 0.0244 - val_accuracy: 0.8941 - val_loss: 0.2054 - learning_rate: 1.2500e-07\n",
      "Epoch 31/50\n",
      "\u001b[1m142/143\u001b[0m \u001b[32m━━━━━━━━━━━━━━━━━━━\u001b[0m\u001b[37m━\u001b[0m \u001b[1m0s\u001b[0m 22ms/step - accuracy: 0.9940 - loss: 0.0247\n",
      "Epoch 31: ReduceLROnPlateau reducing learning rate to 6.249999984220267e-08.\n",
      "\u001b[1m143/143\u001b[0m \u001b[32m━━━━━━━━━━━━━━━━━━━━\u001b[0m\u001b[37m\u001b[0m \u001b[1m4s\u001b[0m 25ms/step - accuracy: 0.9940 - loss: 0.0247 - val_accuracy: 0.8898 - val_loss: 0.2103 - learning_rate: 1.2500e-07\n",
      "Epoch 32/50\n",
      "\u001b[1m143/143\u001b[0m \u001b[32m━━━━━━━━━━━━━━━━━━━━\u001b[0m\u001b[37m\u001b[0m \u001b[1m-359s\u001b[0m -2527494us/step - accuracy: 0.9923 - loss: 0.0260 - val_accuracy: 0.9003 - val_loss: 0.2027 - learning_rate: 6.2500e-08\n",
      "Epoch 33/50\n",
      "\u001b[1m143/143\u001b[0m \u001b[32m━━━━━━━━━━━━━━━━━━━━\u001b[0m\u001b[37m\u001b[0m \u001b[1m4s\u001b[0m 25ms/step - accuracy: 0.9920 - loss: 0.0228 - val_accuracy: 0.8968 - val_loss: 0.2048 - learning_rate: 6.2500e-08\n",
      "Epoch 34/50\n",
      "\u001b[1m 21/143\u001b[0m \u001b[32m━━\u001b[0m\u001b[37m━━━━━━━━━━━━━━━━━━\u001b[0m \u001b[1m36:53\u001b[0m 18s/step - accuracy: 0.9913 - loss: 0.0243\n",
      "Epoch 34: ReduceLROnPlateau reducing learning rate to 3.1249999921101335e-08.\n",
      "\u001b[1m143/143\u001b[0m \u001b[32m━━━━━━━━━━━━━━━━━━━━\u001b[0m\u001b[37m\u001b[0m \u001b[1m4s\u001b[0m 25ms/step - accuracy: 0.9925 - loss: 0.0227 - val_accuracy: 0.8976 - val_loss: 0.2042 - learning_rate: 6.2500e-08\n",
      "Epoch 35/50\n",
      "\u001b[1m143/143\u001b[0m \u001b[32m━━━━━━━━━━━━━━━━━━━━\u001b[0m\u001b[37m\u001b[0m \u001b[1m4s\u001b[0m 26ms/step - accuracy: 0.9914 - loss: 0.0229 - val_accuracy: 0.8985 - val_loss: 0.2035 - learning_rate: 3.1250e-08\n",
      "Epoch 36/50\n",
      "\u001b[1m143/143\u001b[0m \u001b[32m━━━━━━━━━━━━━━━━━━━━\u001b[0m\u001b[37m\u001b[0m \u001b[1m4s\u001b[0m 26ms/step - accuracy: 0.9899 - loss: 0.0234 - val_accuracy: 0.8976 - val_loss: 0.2032 - learning_rate: 3.1250e-08\n",
      "Epoch 37/50\n",
      "\u001b[1m142/143\u001b[0m \u001b[32m━━━━━━━━━━━━━━━━━━━\u001b[0m\u001b[37m━\u001b[0m \u001b[1m0s\u001b[0m 22ms/step - accuracy: 0.9978 - loss: 0.0213\n",
      "Epoch 37: ReduceLROnPlateau reducing learning rate to 1.5624999960550667e-08.\n",
      "\u001b[1m143/143\u001b[0m \u001b[32m━━━━━━━━━━━━━━━━━━━━\u001b[0m\u001b[37m\u001b[0m \u001b[1m4s\u001b[0m 25ms/step - accuracy: 0.9977 - loss: 0.0214 - val_accuracy: 0.8976 - val_loss: 0.2036 - learning_rate: 3.1250e-08\n",
      "Epoch 38/50\n",
      "\u001b[1m143/143\u001b[0m \u001b[32m━━━━━━━━━━━━━━━━━━━━\u001b[0m\u001b[37m\u001b[0m \u001b[1m4s\u001b[0m 25ms/step - accuracy: 0.9956 - loss: 0.0221 - val_accuracy: 0.8985 - val_loss: 0.2034 - learning_rate: 1.5625e-08\n",
      "Epoch 39/50\n",
      "\u001b[1m143/143\u001b[0m \u001b[32m━━━━━━━━━━━━━━━━━━━━\u001b[0m\u001b[37m\u001b[0m \u001b[1m4s\u001b[0m 25ms/step - accuracy: 0.9946 - loss: 0.0232 - val_accuracy: 0.8985 - val_loss: 0.2034 - learning_rate: 1.5625e-08\n",
      "Epoch 40/50\n",
      "\u001b[1m142/143\u001b[0m \u001b[32m━━━━━━━━━━━━━━━━━━━\u001b[0m\u001b[37m━\u001b[0m \u001b[1m0s\u001b[0m 22ms/step - accuracy: 0.9944 - loss: 0.0231\n",
      "Epoch 40: ReduceLROnPlateau reducing learning rate to 7.812499980275334e-09.\n",
      "\u001b[1m143/143\u001b[0m \u001b[32m━━━━━━━━━━━━━━━━━━━━\u001b[0m\u001b[37m\u001b[0m \u001b[1m366s\u001b[0m 3s/step - accuracy: 0.9944 - loss: 0.0231 - val_accuracy: 0.9011 - val_loss: 0.2031 - learning_rate: 1.5625e-08\n",
      "Epoch 41/50\n",
      "\u001b[1m143/143\u001b[0m \u001b[32m━━━━━━━━━━━━━━━━━━━━\u001b[0m\u001b[37m\u001b[0m \u001b[1m-359s\u001b[0m -2527692us/step - accuracy: 0.9908 - loss: 0.0236 - val_accuracy: 0.8994 - val_loss: 0.2033 - learning_rate: 7.8125e-09\n",
      "Epoch 42/50\n",
      "\u001b[1m143/143\u001b[0m \u001b[32m━━━━━━━━━━━━━━━━━━━━\u001b[0m\u001b[37m\u001b[0m \u001b[1m4s\u001b[0m 25ms/step - accuracy: 0.9911 - loss: 0.0233 - val_accuracy: 0.9003 - val_loss: 0.2034 - learning_rate: 7.8125e-09\n",
      "Epoch 43/50\n",
      "\u001b[1m134/143\u001b[0m \u001b[32m━━━━━━━━━━━━━━━━━━\u001b[0m\u001b[37m━━\u001b[0m \u001b[1m24s\u001b[0m 3s/step - accuracy: 0.9929 - loss: 0.0243\n",
      "Epoch 43: ReduceLROnPlateau reducing learning rate to 3.906249990137667e-09.\n",
      "\u001b[1m143/143\u001b[0m \u001b[32m━━━━━━━━━━━━━━━━━━━━\u001b[0m\u001b[37m\u001b[0m \u001b[1m4s\u001b[0m 25ms/step - accuracy: 0.9929 - loss: 0.0241 - val_accuracy: 0.9011 - val_loss: 0.2034 - learning_rate: 7.8125e-09\n",
      "Epoch 44/50\n",
      "\u001b[1m143/143\u001b[0m \u001b[32m━━━━━━━━━━━━━━━━━━━━\u001b[0m\u001b[37m\u001b[0m \u001b[1m4s\u001b[0m 25ms/step - accuracy: 0.9924 - loss: 0.0214 - val_accuracy: 0.9011 - val_loss: 0.2033 - learning_rate: 3.9062e-09\n",
      "Epoch 45/50\n",
      "\u001b[1m143/143\u001b[0m \u001b[32m━━━━━━━━━━━━━━━━━━━━\u001b[0m\u001b[37m\u001b[0m \u001b[1m4s\u001b[0m 26ms/step - accuracy: 0.9910 - loss: 0.0226 - val_accuracy: 0.9011 - val_loss: 0.2035 - learning_rate: 3.9062e-09\n",
      "Epoch 46/50\n",
      "\u001b[1m 92/143\u001b[0m \u001b[32m━━━━━━━━━━━━\u001b[0m\u001b[37m━━━━━━━━\u001b[0m \u001b[1m3:24\u001b[0m 4s/step - accuracy: 0.9924 - loss: 0.0210\n",
      "Epoch 46: ReduceLROnPlateau reducing learning rate to 1.9531249950688334e-09.\n",
      "\u001b[1m143/143\u001b[0m \u001b[32m━━━━━━━━━━━━━━━━━━━━\u001b[0m\u001b[37m\u001b[0m \u001b[1m4s\u001b[0m 26ms/step - accuracy: 0.9927 - loss: 0.0210 - val_accuracy: 0.9011 - val_loss: 0.2035 - learning_rate: 3.9062e-09\n",
      "Epoch 47/50\n",
      "\u001b[1m143/143\u001b[0m \u001b[32m━━━━━━━━━━━━━━━━━━━━\u001b[0m\u001b[37m\u001b[0m \u001b[1m4s\u001b[0m 25ms/step - accuracy: 0.9954 - loss: 0.0197 - val_accuracy: 0.9011 - val_loss: 0.2035 - learning_rate: 1.9531e-09\n",
      "Epoch 48/50\n",
      "\u001b[1m143/143\u001b[0m \u001b[32m━━━━━━━━━━━━━━━━━━━━\u001b[0m\u001b[37m\u001b[0m \u001b[1m4s\u001b[0m 26ms/step - accuracy: 0.9939 - loss: 0.0224 - val_accuracy: 0.9011 - val_loss: 0.2035 - learning_rate: 1.9531e-09\n",
      "Epoch 49/50\n",
      "\u001b[1m 47/143\u001b[0m \u001b[32m━━━━━━\u001b[0m\u001b[37m━━━━━━━━━━━━━━\u001b[0m \u001b[1m12:38\u001b[0m 8s/step - accuracy: 0.9956 - loss: 0.0236\n",
      "Epoch 49: ReduceLROnPlateau reducing learning rate to 9.765624975344167e-10.\n",
      "\u001b[1m143/143\u001b[0m \u001b[32m━━━━━━━━━━━━━━━━━━━━\u001b[0m\u001b[37m\u001b[0m \u001b[1m4s\u001b[0m 25ms/step - accuracy: 0.9943 - loss: 0.0221 - val_accuracy: 0.9011 - val_loss: 0.2035 - learning_rate: 1.9531e-09\n",
      "Epoch 50/50\n",
      "\u001b[1m143/143\u001b[0m \u001b[32m━━━━━━━━━━━━━━━━━━━━\u001b[0m\u001b[37m\u001b[0m \u001b[1m4s\u001b[0m 25ms/step - accuracy: 0.9933 - loss: 0.0219 - val_accuracy: 0.9011 - val_loss: 0.2035 - learning_rate: 9.7656e-10\n"
     ]
    }
   ],
   "source": [
    "\n",
    "history = model.fit(\n",
    "    train_ds,\n",
    "    validation_data=val_ds,\n",
    "    epochs=50,\n",
    "    callbacks=[reduce_lr]\n",
    ")"
   ]
  },
  {
   "cell_type": "code",
   "execution_count": 20,
   "id": "85149f82",
   "metadata": {},
   "outputs": [],
   "source": [
    "model.save(\"cnn_resnet_unfreeze.keras\")\n",
    "from tensorflow.keras.models import load_model\n",
    "#model = load_model(\"cnn_resnet_unfreeze.keras\")"
   ]
  },
  {
   "cell_type": "code",
   "execution_count": 21,
   "id": "14504f56",
   "metadata": {},
   "outputs": [],
   "source": [
    "test_ds = tf.data.Dataset.from_generator(\n",
    "    data_generator_val,\n",
    "    output_signature=(\n",
    "        tf.TensorSpec(shape=(224, 224), dtype=tf.uint8),\n",
    "        tf.TensorSpec(shape=(4,), dtype=tf.uint8)\n",
    "    )\n",
    ")\n",
    "test_ds = (\n",
    "   \ttest_ds \n",
    "    .map(preprocess, num_parallel_calls=tf.data.AUTOTUNE)\n",
    "    .batch(32)\n",
    "    .prefetch(tf.data.AUTOTUNE)\n",
    ")"
   ]
  },
  {
   "cell_type": "code",
   "execution_count": 27,
   "id": "444daa02",
   "metadata": {},
   "outputs": [
    {
     "name": "stdout",
     "output_type": "stream",
     "text": [
      "\u001b[1m36/36\u001b[0m \u001b[32m━━━━━━━━━━━━━━━━━━━━\u001b[0m\u001b[37m\u001b[0m \u001b[1m1s\u001b[0m 19ms/step\n"
     ]
    },
    {
     "name": "stderr",
     "output_type": "stream",
     "text": [
      "/usr/lib/python3.10/contextlib.py:153: UserWarning: Your input ran out of data; interrupting training. Make sure that your dataset or generator can generate at least `steps_per_epoch * epochs` batches. You may need to use the `.repeat()` function when building your dataset.\n",
      "  self.gen.throw(typ, value, traceback)\n"
     ]
    },
    {
     "name": "stdout",
     "output_type": "stream",
     "text": [
      "CNN Accuracy: 0.9011\n"
     ]
    },
    {
     "data": {
      "image/png": "[encoded data removed]",
      "text/plain": [
       "<Figure size 640x480 with 2 Axes>"
      ]
     },
     "metadata": {},
     "output_type": "display_data"
    }
   ],
   "source": [
    "from sklearn.metrics import accuracy_score, confusion_matrix\n",
    "import seaborn as sns\n",
    "import matplotlib.pyplot as plt\n",
    "\n",
    "y_pred = model.predict(test_ds)\n",
    "\n",
    "y_true = []\n",
    "for _, label_batch in test_ds:\n",
    "    y_true.append(label_batch.numpy())\n",
    "\n",
    "y_true = np.concatenate(y_true, axis=0)\n",
    "\n",
    "y_true = np.argmax(y_true, axis=1)\n",
    "\n",
    "y_pred = np.argmax(y_pred, axis=1)\n",
    "\n",
    "acc = accuracy_score(y_true, y_pred)\n",
    "print(f\"CNN Accuracy: {acc:.4f}\")\n",
    "\n",
    "conf_matrix = confusion_matrix(y_true, y_pred)\n",
    "sns.heatmap(conf_matrix, annot=True, fmt='d', cmap='Blues', xticklabels=[\"Class 0\", \"Class 1\", \"Class 2\", \"Class 3\"], yticklabels=[\"Class 0\", \"Class 1\", \"Class 2\", \"Class 3\"])\n",
    "plt.xlabel('Predicted')\n",
    "plt.ylabel('True')\n",
    "plt.show()"
   ]
  },
  {
   "cell_type": "code",
   "execution_count": 28,
   "id": "f4f2cc88",
   "metadata": {},
   "outputs": [
    {
     "name": "stdout",
     "output_type": "stream",
     "text": [
      "CNN Accuracy: 0.9011\n",
      "Precision (per class): [0.88275862 0.8129771  0.94871795 0.94968553]\n",
      "Recall (per class): [0.88888889 0.80377358 0.94871795 0.95268139]\n",
      "F1 Score (per class): [0.88581315 0.80834915 0.94871795 0.9511811 ]\n",
      "\n",
      "Overall (macro average) Precision: 0.8985348008088601\n",
      "Overall (macro average) Recall: 0.898515452631279\n",
      "Overall (macro average) F1 Score: 0.8985153364947844\n",
      "\n",
      "Classification Report:\n",
      "               precision    recall  f1-score   support\n",
      "\n",
      "      glioma       0.88      0.89      0.89       288\n",
      "  meningioma       0.81      0.80      0.81       265\n",
      "   pituitary       0.95      0.95      0.95       273\n",
      "     notumor       0.95      0.95      0.95       317\n",
      "\n",
      "    accuracy                           0.90      1143\n",
      "   macro avg       0.90      0.90      0.90      1143\n",
      "weighted avg       0.90      0.90      0.90      1143\n",
      "\n"
     ]
    }
   ],
   "source": [
    "from sklearn.metrics import precision_score, recall_score, f1_score, accuracy_score, confusion_matrix, classification_report\n",
    "import seaborn as sns\n",
    "import matplotlib.pyplot as plt\n",
    "import numpy as np\n",
    "acc = accuracy_score(y_true, y_pred)\n",
    "print(f\"CNN Accuracy: {acc:.4f}\")\n",
    "\n",
    "precision = precision_score(y_true, y_pred, average=None)  # per class precision\n",
    "recall = recall_score(y_true, y_pred, average=None)  # per class recall\n",
    "f1 = f1_score(y_true, y_pred, average=None)  # per class f1 score\n",
    "\n",
    "print(\"Precision (per class):\", precision)\n",
    "print(\"Recall (per class):\", recall)\n",
    "print(\"F1 Score (per class):\", f1)\n",
    "\n",
    "precision_macro = precision_score(y_true, y_pred, average='macro')\n",
    "recall_macro = recall_score(y_true, y_pred, average='macro')\n",
    "f1_macro = f1_score(y_true, y_pred, average='macro')\n",
    "\n",
    "print(\"\\nOverall (macro average) Precision:\", precision_macro)\n",
    "print(\"Overall (macro average) Recall:\", recall_macro)\n",
    "print(\"Overall (macro average) F1 Score:\", f1_macro)\n",
    "\n",
    "report = classification_report(y_true, y_pred, target_names=[\"glioma\", \"meningioma\", \"pituitary\", \"notumor\"])\n",
    "print(\"\\nClassification Report:\\n\", report)"
   ]
  },
  {
   "cell_type": "code",
   "execution_count": 29,
   "id": "5d0d745c",
   "metadata": {},
   "outputs": [
    {
     "data": {
      "image/png": "[encoded data removed]",
      "text/plain": [
       "<Figure size 1000x600 with 1 Axes>"
      ]
     },
     "metadata": {},
     "output_type": "display_data"
    }
   ],
   "source": [
    "precision = [0.88275862, 0.8129771,  0.94871795, 0.94968553]\n",
    "recall = [0.88888889, 0.80377358, 0.94871795, 0.95268139,]\n",
    "f1_score = [0.88581315, 0.80834915, 0.94871795, 0.9511811]\n",
    "\n",
    "classes = ['Glioma', 'Meningioma', 'Pituitary', 'No Tumor']\n",
    "\n",
    "bar_width = 0.2\n",
    "index = np.arange(len(classes))\n",
    "\n",
    "fig, ax = plt.subplots(figsize=(10, 6))\n",
    "\n",
    "bar1 = ax.bar(index, precision, bar_width, label='Precision', color='blue')\n",
    "bar2 = ax.bar(index + bar_width, recall, bar_width, label='Recall', color='green')\n",
    "bar3 = ax.bar(index + 2 * bar_width, f1_score, bar_width, label='F1-Score', color='red')\n",
    "\n",
    "\n",
    "ax.set_ylim(0.8, 1)\n",
    "ax.set_xlabel('Class')\n",
    "ax.set_ylabel('Score')\n",
    "ax.set_title('Precision, Recall, F1-Score by Class')\n",
    "ax.set_xticks(index + bar_width)\n",
    "ax.set_xticklabels(classes)\n",
    "ax.legend()\n",
    "\n",
    "plt.tight_layout()\n",
    "plt.show()"
   ]
  },
  {
   "cell_type": "code",
   "execution_count": 25,
   "id": "22446b56",
   "metadata": {},
   "outputs": [
    {
     "name": "stdout",
     "output_type": "stream",
     "text": [
      "Pushbullet notification sent.\n"
     ]
    }
   ],
   "source": [
    "import importlib.util\n",
    "import subprocess\n",
    "\n",
    "# --- Install pushbullet.py if it's not already present ---\n",
    "if importlib.util.find_spec(\"pushbullet\") is None:\n",
    "    subprocess.run([\"pip\", \"install\", \"pushbullet.py\"])\n",
    "\n",
    "# --- Pushbullet notification ---\n",
    "try:\n",
    "    from pushbullet import Pushbullet\n",
    "    pb = Pushbullet(\"o.Dgrk9aBAsSvb3dJSzNaJlHJa7y5wv9R2\")  # ⬅️ Replace with your real API key\n",
    "    pb.push_note(\"✅ Training Complete\", \"Your notebook has finished running.\")\n",
    "    print(\"Pushbullet notification sent.\")\n",
    "except Exception as e:\n",
    "    print(\"Pushbullet notification failed:\", e)"
   ]
  }
 ],
 "metadata": {
  "kernelspec": {
   "display_name": "Python (nlp)",
   "language": "python",
   "name": "nlp"
  },
  "language_info": {
   "codemirror_mode": {
    "name": "ipython",
    "version": 3
   },
   "file_extension": ".py",
   "mimetype": "text/x-python",
   "name": "python",
   "nbconvert_exporter": "python",
   "pygments_lexer": "ipython3",
   "version": "3.10.12"
  }
 },
 "nbformat": 4,
 "nbformat_minor": 5
}
